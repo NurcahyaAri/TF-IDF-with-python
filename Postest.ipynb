{
 "cells": [
  {
   "cell_type": "code",
   "execution_count": 93,
   "metadata": {},
   "outputs": [],
   "source": [
    "from openpyxl import load_workbook\n",
    "import pandas as pd\n",
    "from sklearn.feature_extraction.text import CountVectorizer, TfidfTransformer\n",
    "from Sastrawi.Stemmer.StemmerFactory import StemmerFactory\n",
    "factory = StemmerFactory()"
   ]
  },
  {
   "cell_type": "code",
   "execution_count": 90,
   "metadata": {},
   "outputs": [],
   "source": [
    "wb = load_workbook(filename= 'komentar seller.xlsx')\n",
    "sheet_ranges = wb['Sheet1']\n",
    "df = pd.DataFrame(sheet_ranges.values)\n",
    "df.columns = ['Date', 'Store', 'LOcation', 'Coment']\n",
    "df\n",
    "\n",
    "stop_word = ['gan', 'n','cuma', 'agak', 'yg', 'yang', 'dan', 'ya', 'nya', 'dgn', 'ya', 'yaa', 'mau', '']\n",
    "slang_word = {\n",
    "    'yg' : 'yang',\n",
    "    'bgs.' : 'bagus',\n",
    "    'dpt' : 'dapat',\n",
    "    'dr' : 'dari',\n",
    "    'n' : 'dan',\n",
    "    'and' : 'dan',\n",
    "    'yaa' : 'ya',\n",
    "    'ori' : 'asli',\n",
    "    'yaaa' : 'ya',\n",
    "}\n"
   ]
  },
  {
   "cell_type": "code",
   "execution_count": 74,
   "metadata": {},
   "outputs": [],
   "source": [
    "coment = []\n",
    "for i in df['Coment']:\n",
    "    coment.append(i.lower())"
   ]
  },
  {
   "cell_type": "code",
   "execution_count": 87,
   "metadata": {},
   "outputs": [
    {
     "data": {
      "text/plain": [
       "['sudah sampai gan. mantap barangnya..',\n",
       " 'kualitas bgs. dapat bonus lagi dari penjual',\n",
       " 'baradang rapih packidangdanya dan bagus. cuma pedangirimadandanya yadang agak lama',\n",
       " 'makasih barang sudah sampai dengan selamat sampai tujuan.',\n",
       " 'pihak penjual memperhatikan dan mengikuti perkembangan proses pengiriman dengan seksama,pelayanan yang baik dan aman menurut pemantauan saya,terimakasih',\n",
       " 'respon cepat, pengiriman super cepat, packing aman dan rapi.',\n",
       " 'puas belanja disini. mudahan laris terus ya gan.',\n",
       " 'packing rapih, barang sesuai dgn yang diiklankan. nice dan recommended seller',\n",
       " 'packing nya mantapp ya aman banget. seller juga mau bertanggung jawab kalo ni barang mengalami kerusakan. keren lah barang juga asli thank you yaa',\n",
       " 'barangnya mulus, pengirimannya juga cepat. makasih ya sis',\n",
       " 'produk diterima sesuai deskripsi. berfungsi dengan baik']"
      ]
     },
     "execution_count": 87,
     "metadata": {},
     "output_type": "execute_result"
    }
   ],
   "source": [
    "coment"
   ]
  },
  {
   "cell_type": "code",
   "execution_count": 91,
   "metadata": {},
   "outputs": [
    {
     "data": {
      "text/plain": [
       "['sudah sampai gan. mantap barangnya..',\n",
       " 'kualitas bagus dapat bonus lagi dari penjual',\n",
       " 'baradang rapih packidangdanya dan bagus. cuma pedangirimadandanya yadang agak lama',\n",
       " 'makasih barang sudah sampai dengan selamat sampai tujuan.',\n",
       " 'pihak penjual memperhatikan dan mengikuti perkembangan proses pengiriman dengan seksama,pelayanan yang baik dan aman menurut pemantauan saya,terimakasih',\n",
       " 'respon cepat, pengiriman super cepat, packing aman dan rapi.',\n",
       " 'puas belanja disini. mudahan laris terus ya gan.',\n",
       " 'packing rapih, barang sesuai dgn yang diiklankan. nice dan recommended seller',\n",
       " 'packing nya mantapp ya aman banget. seller juga mau bertanggung jawab kalo ni barang mengalami kerusakan. keren lah barang juga asli thank you ya',\n",
       " 'barangnya mulus, pengirimannya juga cepat. makasih ya sis',\n",
       " 'produk diterima sesuai deskripsi. berfungsi dengan baik']"
      ]
     },
     "execution_count": 91,
     "metadata": {},
     "output_type": "execute_result"
    }
   ],
   "source": [
    "def slang_split(text):\n",
    "    for i, t in enumerate(text):\n",
    "        splitlines = t.split()\n",
    "        for w in splitlines:\n",
    "            if w in slang_word:\n",
    "                t = t.replace(w, str(slang_word[w]))\n",
    "                text[i] = t\n",
    "    return text\n",
    "slang_split(coment)"
   ]
  },
  {
   "cell_type": "code",
   "execution_count": 98,
   "metadata": {},
   "outputs": [
    {
     "name": "stdout",
     "output_type": "stream",
     "text": [
      "Jumlah Term Uniq :  82\n"
     ]
    }
   ],
   "source": [
    "CV = CountVectorizer()\n",
    "term_fit = CV.fit(coment)\n",
    "print(\"Jumlah Term Uniq : \",len(term_fit.vocabulary_))"
   ]
  },
  {
   "cell_type": "code",
   "execution_count": 99,
   "metadata": {},
   "outputs": [
    {
     "name": "stdout",
     "output_type": "stream",
     "text": [
      "{'sudah': 72, 'sampai': 65, 'gan': 24, 'mantap': 36, 'barangnya': 8, 'kualitas': 30, 'bagus': 3, 'dapat': 16, 'bonus': 12, 'lagi': 31, 'dari': 17, 'penjual': 55, 'baradang': 6, 'rapih': 62, 'packidangdanya': 48, 'dan': 15, 'cuma': 14, 'pedangirimadandanya': 50, 'yadang': 79, 'agak': 0, 'lama': 33, 'makasih': 35, 'barang': 7, 'dengan': 18, 'selamat': 68, 'tujuan': 77, 'pihak': 57, 'memperhatikan': 39, 'mengikuti': 41, 'perkembangan': 56, 'proses': 59, 'pengiriman': 53, 'seksama': 67, 'pelayanan': 51, 'yang': 80, 'baik': 4, 'aman': 1, 'menurut': 42, 'pemantauan': 52, 'saya': 66, 'terimakasih': 74, 'respon': 64, 'cepat': 13, 'super': 73, 'packing': 49, 'rapi': 61, 'puas': 60, 'belanja': 9, 'disini': 22, 'mudahan': 43, 'laris': 34, 'terus': 75, 'ya': 78, 'sesuai': 70, 'dgn': 20, 'diiklankan': 21, 'nice': 46, 'recommended': 63, 'seller': 69, 'nya': 47, 'mantapp': 37, 'banget': 5, 'juga': 26, 'mau': 38, 'bertanggung': 11, 'jawab': 25, 'kalo': 27, 'ni': 45, 'mengalami': 40, 'kerusakan': 29, 'keren': 28, 'lah': 32, 'asli': 2, 'thank': 76, 'you': 81, 'mulus': 44, 'pengirimannya': 54, 'sis': 71, 'produk': 58, 'diterima': 23, 'deskripsi': 19, 'berfungsi': 10}\n"
     ]
    }
   ],
   "source": [
    "print(term_fit.vocabulary_)"
   ]
  },
  {
   "cell_type": "code",
   "execution_count": 112,
   "metadata": {},
   "outputs": [
    {
     "name": "stdout",
     "output_type": "stream",
     "text": [
      "respon cepat, pengiriman super cepat, packing aman dan rapi.\n",
      "  (0, 1)\t1\n",
      "  (0, 13)\t2\n",
      "  (0, 15)\t1\n",
      "  (0, 49)\t1\n",
      "  (0, 53)\t1\n",
      "  (0, 61)\t1\n",
      "  (0, 64)\t1\n",
      "  (0, 73)\t1\n"
     ]
    }
   ],
   "source": [
    "term_frequency_all = term_fit.transform([coment[5]])\n",
    "print(coment[5])\n",
    "print(term_frequency_all)"
   ]
  },
  {
   "cell_type": "code",
   "execution_count": 114,
   "metadata": {},
   "outputs": [
    {
     "name": "stdout",
     "output_type": "stream",
     "text": [
      "  (0, 73)\t0.30151134457776363\n",
      "  (0, 64)\t0.30151134457776363\n",
      "  (0, 61)\t0.30151134457776363\n",
      "  (0, 53)\t0.30151134457776363\n",
      "  (0, 49)\t0.30151134457776363\n",
      "  (0, 15)\t0.30151134457776363\n",
      "  (0, 13)\t0.6030226891555273\n",
      "  (0, 1)\t0.30151134457776363\n"
     ]
    }
   ],
   "source": [
    "term_frequency = term_fit.transform([coment[5]])\n",
    "komentar_term = term_fit.transform([coment[5]])\n",
    "tfid_transform = TfidfTransformer().fit(komentar_term)\n",
    "tfidf = tfid_transform.transform(term_frequency)\n",
    "print(tfidf)"
   ]
  },
  {
   "cell_type": "code",
   "execution_count": null,
   "metadata": {},
   "outputs": [],
   "source": []
  }
 ],
 "metadata": {
  "kernelspec": {
   "display_name": "Python 3",
   "language": "python",
   "name": "python3"
  },
  "language_info": {
   "codemirror_mode": {
    "name": "ipython",
    "version": 3
   },
   "file_extension": ".py",
   "mimetype": "text/x-python",
   "name": "python",
   "nbconvert_exporter": "python",
   "pygments_lexer": "ipython3",
   "version": "3.7.1"
  }
 },
 "nbformat": 4,
 "nbformat_minor": 2
}
